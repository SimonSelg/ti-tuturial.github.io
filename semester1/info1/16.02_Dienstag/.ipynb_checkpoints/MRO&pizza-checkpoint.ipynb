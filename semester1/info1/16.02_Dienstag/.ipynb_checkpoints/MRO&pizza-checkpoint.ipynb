{
 "cells": [
  {
   "cell_type": "markdown",
   "metadata": {},
   "source": [
    "# 16.02.16 - MRO/Ausgabe/OOP allgemein - Laura"
   ]
  },
  {
   "cell_type": "markdown",
   "metadata": {},
   "source": [
    "1) MRO."
   ]
  },
  {
   "cell_type": "markdown",
   "metadata": {},
   "source": [
    "Betrachten Sie die folgende Klassendefinitionen:"
   ]
  },
  {
   "cell_type": "code",
   "execution_count": null,
   "metadata": {
    "collapsed": true
   },
   "outputs": [],
   "source": [
    "class A:\n",
    "    pass\n",
    "class B:\n",
    "    pass\n",
    "class C:\n",
    "    pass\n",
    "class D:\n",
    "    pass\n",
    "class E(A, B):\n",
    "    pass\n",
    "class F(B, C, D):\n",
    "    pass\n",
    "class G(E, F):\n",
    "    pass"
   ]
  },
  {
   "cell_type": "markdown",
   "metadata": {},
   "source": [
    "Wenden Sie auf diese Klassenhierarchie den C3-Algorithmus an, um die Method-Resolution-Order für die Klasse G zu bestimmen. Geben Sie alle Zwischenschritte an."
   ]
  },
  {
   "cell_type": "markdown",
   "metadata": {},
   "source": [
    "2) Instanzmethoden/Statische Methoden/Klassenmethoden."
   ]
  },
  {
   "cell_type": "markdown",
   "metadata": {},
   "source": [
    "Betrachten Sie folgendes Beispiel:"
   ]
  },
  {
   "cell_type": "code",
   "execution_count": null,
   "metadata": {
    "collapsed": true
   },
   "outputs": [],
   "source": [
    "class Pizza:\n",
    "    pizzacount = 0\n",
    "    def __init__(self, cheese, meat):\n",
    "        self.cheese = cheese\n",
    "        self.meat = meat\n",
    "        Pizza.pizzacount += 1\n",
    "        \n",
    "    @staticmethod\n",
    "    def print_pizzacount():\n",
    "        print(\"%s pizzas\" % Pizza.pizzacount)\n",
    "        \n",
    "class Calzone(Pizza):\n",
    "    calzonecount = 0\n",
    "    def __init__(self, cheese, meat, size):\n",
    "        self.size = size\n",
    "        Calzone.calzonecount += 1\n",
    "        super().__init__(cheese, meat)\n",
    "        \n",
    "p1 = Pizza(\"mozarella\", \"salami\")\n",
    "p2 = Pizza(\"gouda\", \"ham\")\n",
    "c1 = Calzone(\"mozarella\", \"veg\", \"XL\")\n",
    "p1.print_pizzacount()"
   ]
  },
  {
   "cell_type": "markdown",
   "metadata": {},
   "source": [
    "a) Was wird ausgegeben? \n",
    "b) Was passiert wenn wir '@staticmethod' entfernen? Erklären Sie kurz den Unterschied zwischen Instanzenmethoden, statische Methoden und Klassenmethoden."
   ]
  }
 ],
 "metadata": {
  "kernelspec": {
   "display_name": "Python 3",
   "language": "python",
   "name": "python3"
  },
  "language_info": {
   "codemirror_mode": {
    "name": "ipython",
    "version": 3
   },
   "file_extension": ".py",
   "mimetype": "text/x-python",
   "name": "python",
   "nbconvert_exporter": "python",
   "pygments_lexer": "ipython3",
   "version": "3.5.0"
  }
 },
 "nbformat": 4,
 "nbformat_minor": 0
}
