{
 "cells": [
  {
   "cell_type": "code",
   "execution_count": 7,
   "metadata": {
    "collapsed": false
   },
   "outputs": [
    {
     "name": "stdout",
     "output_type": "stream",
     "text": [
      "2 in gen, True\n",
      "3 in gen, True\n",
      "1 in gen, False\n"
     ]
    }
   ],
   "source": [
    "gen = (i for i in range(5))\n",
    "print('2 in gen,', 2 in gen)\n",
    "print('3 in gen,', 3 in gen)\n",
    "print('1 in gen,', 1 in gen)"
   ]
  },
  {
   "cell_type": "code",
   "execution_count": 6,
   "metadata": {
    "collapsed": false
   },
   "outputs": [
    {
     "name": "stdout",
     "output_type": "stream",
     "text": [
      "[]\n"
     ]
    }
   ],
   "source": []
  },
  {
   "cell_type": "code",
   "execution_count": null,
   "metadata": {
    "collapsed": false
   },
   "outputs": [],
   "source": [
    "print('isinstance(True, int):', isinstance(True, int))\n",
    "print('True + True:', True + True)\n",
    "print('3*True + True:', 3*True + True)\n",
    "print('3*True - False:', 3*True - False)"
   ]
  },
  {
   "cell_type": "code",
   "execution_count": null,
   "metadata": {
    "collapsed": true
   },
   "outputs": [],
   "source": [
    "my_list = [lambda: i for i in range(5)]\n",
    "for l in my_list:\n",
    "    print(l())"
   ]
  },
  {
   "cell_type": "code",
   "execution_count": null,
   "metadata": {
    "collapsed": true
   },
   "outputs": [],
   "source": [
    "my_gen = (lambda: n for n in range(5))\n",
    "for l in my_gen:\n",
    "    print(l())"
   ]
  },
  {
   "cell_type": "code",
   "execution_count": null,
   "metadata": {
    "collapsed": false
   },
   "outputs": [],
   "source": [
    "my_list = [lambda x=i: x for i in range(5)]\n",
    "for l in my_list:\n",
    "    print(l())"
   ]
  },
  {
   "cell_type": "code",
   "execution_count": null,
   "metadata": {
    "collapsed": false
   },
   "outputs": [],
   "source": [
    "def bubbleSort(list):\n",
    "    for passnum in range(len(list)-1, 0, -1):\n",
    "        for i in range(passnum):\n",
    "            if list[i]<list[i+1]:\n",
    "                temp = list[i]\n",
    "                list[i] = list[i+1]\n",
    "                list[i+1] = temp\n",
    "\n",
    "if __name__ == '__main__':\n",
    "    listToSort = [1, 54, 26, 93, 17, 77, 31, 44, 55, 20]\n",
    "    bubbleSort(listToSort)\n",
    "    print(listToSort)\n"
   ]
  }
 ],
 "metadata": {
  "kernelspec": {
   "display_name": "Python 3",
   "language": "python",
   "name": "python3"
  },
  "language_info": {
   "codemirror_mode": {
    "name": "ipython",
    "version": 3
   },
   "file_extension": ".py",
   "mimetype": "text/x-python",
   "name": "python",
   "nbconvert_exporter": "python",
   "pygments_lexer": "ipython3",
   "version": "3.4.3+"
  }
 },
 "nbformat": 4,
 "nbformat_minor": 0
}
