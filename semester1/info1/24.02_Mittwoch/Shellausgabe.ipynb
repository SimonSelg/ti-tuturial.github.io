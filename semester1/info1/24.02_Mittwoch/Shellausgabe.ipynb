{
 "cells": [
  {
   "cell_type": "code",
   "execution_count": 9,
   "metadata": {
    "collapsed": false
   },
   "outputs": [
    {
     "name": "stdout",
     "output_type": "stream",
     "text": [
      "2 in gen, True\n",
      "3 in gen, True\n",
      "1 in gen, True\n"
     ]
    }
   ],
   "source": [
    "gen = (i for i in range(5))\n",
    "print('2 in gen,', 1 in gen)\n",
    "print('3 in gen,', 2 in gen)\n",
    "print('1 in gen,', 3 in gen)"
   ]
  },
  {
   "cell_type": "code",
   "execution_count": 10,
   "metadata": {
    "collapsed": false
   },
   "outputs": [
    {
     "name": "stdout",
     "output_type": "stream",
     "text": [
      "isinstance(True, int): True\n",
      "True + True: 2\n",
      "3*True + True: 4\n",
      "3*True - False: 3\n"
     ]
    }
   ],
   "source": [
    "print('isinstance(True, int):', isinstance(True, int))\n",
    "print('True + True:', True + True)\n",
    "print('3*True + True:', 3*True + True)\n",
    "print('3*True - False:', 3*True - False)"
   ]
  },
  {
   "cell_type": "code",
   "execution_count": 37,
   "metadata": {
    "collapsed": false
   },
   "outputs": [
    {
     "name": "stdout",
     "output_type": "stream",
     "text": [
      "<class 'function'>\n",
      "4\n",
      "<class 'function'>\n",
      "4\n",
      "<class 'function'>\n",
      "4\n",
      "<class 'function'>\n",
      "4\n",
      "<class 'function'>\n",
      "4\n"
     ]
    }
   ],
   "source": [
    "my_list = [lambda: i for i in range(5)]\n",
    "for l in my_list:\n",
    "    print(type(l))\n",
    "    print(l())"
   ]
  },
  {
   "cell_type": "code",
   "execution_count": 35,
   "metadata": {
    "collapsed": false
   },
   "outputs": [
    {
     "name": "stdout",
     "output_type": "stream",
     "text": [
      "<class 'function'>\n",
      "0\n",
      "<class 'function'>\n",
      "1\n",
      "<class 'function'>\n",
      "2\n",
      "<class 'function'>\n",
      "3\n",
      "<class 'function'>\n",
      "4\n"
     ]
    }
   ],
   "source": [
    "my_gen = (lambda: n for n in range(5))\n",
    "for l in my_gen:\n",
    "    print(type(l))\n",
    "    print(l())"
   ]
  },
  {
   "cell_type": "code",
   "execution_count": 38,
   "metadata": {
    "collapsed": false
   },
   "outputs": [
    {
     "name": "stdout",
     "output_type": "stream",
     "text": [
      "0\n",
      "1\n",
      "2\n",
      "3\n",
      "4\n"
     ]
    }
   ],
   "source": [
    "my_list = [lambda x=i: x for i in range(5)]\n",
    "for l in my_list:\n",
    "    print(l())"
   ]
  },
  {
   "cell_type": "code",
   "execution_count": 43,
   "metadata": {
    "collapsed": false
   },
   "outputs": [
    {
     "name": "stdout",
     "output_type": "stream",
     "text": [
      "[1, 54, 26, 93, 17, 77, 31, 44, 55, 20]\n",
      "[54, 1, 26, 93, 17, 77, 31, 44, 55, 20]\n",
      "[54, 26, 1, 93, 17, 77, 31, 44, 55, 20]\n",
      "[54, 26, 93, 1, 17, 77, 31, 44, 55, 20]\n",
      "[54, 26, 93, 17, 1, 77, 31, 44, 55, 20]\n",
      "[54, 26, 93, 17, 77, 1, 31, 44, 55, 20]\n",
      "[54, 26, 93, 17, 77, 31, 1, 44, 55, 20]\n",
      "[54, 26, 93, 17, 77, 31, 44, 1, 55, 20]\n",
      "[54, 26, 93, 17, 77, 31, 44, 55, 1, 20]\n",
      "[54, 26, 93, 17, 77, 31, 44, 55, 20, 1]\n",
      "[54, 26, 93, 17, 77, 31, 44, 55, 20, 1]\n",
      "[54, 93, 26, 17, 77, 31, 44, 55, 20, 1]\n",
      "[54, 93, 26, 17, 77, 31, 44, 55, 20, 1]\n",
      "[54, 93, 26, 77, 17, 31, 44, 55, 20, 1]\n",
      "[54, 93, 26, 77, 31, 17, 44, 55, 20, 1]\n",
      "[54, 93, 26, 77, 31, 44, 17, 55, 20, 1]\n",
      "[54, 93, 26, 77, 31, 44, 55, 17, 20, 1]\n",
      "[54, 93, 26, 77, 31, 44, 55, 20, 17, 1]\n",
      "[93, 54, 26, 77, 31, 44, 55, 20, 17, 1]\n",
      "[93, 54, 26, 77, 31, 44, 55, 20, 17, 1]\n",
      "[93, 54, 77, 26, 31, 44, 55, 20, 17, 1]\n",
      "[93, 54, 77, 31, 26, 44, 55, 20, 17, 1]\n",
      "[93, 54, 77, 31, 44, 26, 55, 20, 17, 1]\n",
      "[93, 54, 77, 31, 44, 55, 26, 20, 17, 1]\n",
      "[93, 54, 77, 31, 44, 55, 26, 20, 17, 1]\n",
      "[93, 54, 77, 31, 44, 55, 26, 20, 17, 1]\n",
      "[93, 77, 54, 31, 44, 55, 26, 20, 17, 1]\n",
      "[93, 77, 54, 31, 44, 55, 26, 20, 17, 1]\n",
      "[93, 77, 54, 44, 31, 55, 26, 20, 17, 1]\n",
      "[93, 77, 54, 44, 55, 31, 26, 20, 17, 1]\n",
      "[93, 77, 54, 44, 55, 31, 26, 20, 17, 1]\n",
      "[93, 77, 54, 44, 55, 31, 26, 20, 17, 1]\n",
      "[93, 77, 54, 44, 55, 31, 26, 20, 17, 1]\n",
      "[93, 77, 54, 44, 55, 31, 26, 20, 17, 1]\n",
      "[93, 77, 54, 55, 44, 31, 26, 20, 17, 1]\n",
      "[93, 77, 54, 55, 44, 31, 26, 20, 17, 1]\n",
      "[93, 77, 54, 55, 44, 31, 26, 20, 17, 1]\n",
      "[93, 77, 54, 55, 44, 31, 26, 20, 17, 1]\n",
      "[93, 77, 55, 54, 44, 31, 26, 20, 17, 1]\n",
      "[93, 77, 55, 54, 44, 31, 26, 20, 17, 1]\n",
      "[93, 77, 55, 54, 44, 31, 26, 20, 17, 1]\n",
      "[93, 77, 55, 54, 44, 31, 26, 20, 17, 1]\n",
      "[93, 77, 55, 54, 44, 31, 26, 20, 17, 1]\n",
      "[93, 77, 55, 54, 44, 31, 26, 20, 17, 1]\n",
      "[93, 77, 55, 54, 44, 31, 26, 20, 17, 1]\n",
      "[93, 77, 55, 54, 44, 31, 26, 20, 17, 1]\n"
     ]
    }
   ],
   "source": [
    "def bubbleSort(lista):\n",
    "    for passnum in range(len(lista)-1, 0, -1):\n",
    "        for i in range(passnum):\n",
    "            print(lista)\n",
    "            if lista[i]<lista[i+1]:\n",
    "                temp = lista[i]\n",
    "                lista[i] = lista[i+1]\n",
    "                lista[i+1] = temp\n",
    "\n",
    "if __name__ == '__main__':\n",
    "    listToSort = [1, 54, 26, 93, 17, 77, 31, 44, 55, 20]\n",
    "    bubbleSort(listToSort)\n",
    "    print(listToSort)\n"
   ]
  }
 ],
 "metadata": {
  "kernelspec": {
   "display_name": "Python 3",
   "language": "python",
   "name": "python3"
  },
  "language_info": {
   "codemirror_mode": {
    "name": "ipython",
    "version": 3
   },
   "file_extension": ".py",
   "mimetype": "text/x-python",
   "name": "python",
   "nbconvert_exporter": "python",
   "pygments_lexer": "ipython3",
   "version": "3.4.3+"
  }
 },
 "nbformat": 4,
 "nbformat_minor": 0
}
