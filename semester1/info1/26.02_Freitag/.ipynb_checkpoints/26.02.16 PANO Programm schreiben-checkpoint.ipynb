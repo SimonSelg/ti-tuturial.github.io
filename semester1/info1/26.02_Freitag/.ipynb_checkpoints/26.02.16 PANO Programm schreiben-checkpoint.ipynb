{
 "cells": [
  {
   "cell_type": "markdown",
   "metadata": {},
   "source": [
    "# Binomialkoeffizient und binomischer Lehrsatz"
   ]
  },
  {
   "cell_type": "markdown",
   "metadata": {},
   "source": [
    "a) Schreiben Sie eine Funktion / Generator faculty(n), der die ersten n Fakultäten als Dictonary ausgibt.\n",
    "\n",
    "b) Verwenden Sie Ihre Implementierung der Fakultät, um den Binomialkoeffizienten per Funktion binompdf(n, k) zurückzugeben .\n",
    "\n",
    "Hinweis: Der Binomalkoeffizient ist durch die Fakultätsfunktion wie folgt definiert: \n",
    "\n",
    "n!/(k!*(n-k)!)\n",
    "\n",
    "c) calc_bin(op, n) soll abhängig vom Grad (int) und der Operation (string) die ausmultiplizierte Lösung der Gleichung (x op y)^n zurückgeben."
   ]
  }
 ],
 "metadata": {
  "kernelspec": {
   "display_name": "Python 3",
   "language": "python",
   "name": "python3"
  },
  "language_info": {
   "codemirror_mode": {
    "name": "ipython",
    "version": 3
   },
   "file_extension": ".py",
   "mimetype": "text/x-python",
   "name": "python",
   "nbconvert_exporter": "python",
   "pygments_lexer": "ipython3",
   "version": "3.5.1"
  }
 },
 "nbformat": 4,
 "nbformat_minor": 0
}
