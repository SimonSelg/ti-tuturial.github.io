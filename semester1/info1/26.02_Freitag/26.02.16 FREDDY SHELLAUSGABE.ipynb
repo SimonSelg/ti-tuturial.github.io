{
 "cells": [
  {
   "cell_type": "code",
   "execution_count": null,
   "metadata": {
    "collapsed": false
   },
   "outputs": [],
   "source": [
    "s = set(x+y for x in range(6) for y in range(5, 0, -1))\n",
    "print(s)"
   ]
  },
  {
   "cell_type": "code",
   "execution_count": null,
   "metadata": {
    "collapsed": false
   },
   "outputs": [],
   "source": [
    "add = [[x+x for x in [True, 6, 0, False, 7, 2]]for y in range(3)]\n",
    "print(add)"
   ]
  },
  {
   "cell_type": "code",
   "execution_count": null,
   "metadata": {
    "collapsed": false
   },
   "outputs": [],
   "source": [
    "x = 11\n",
    "littleGgen = ((n*(n+1))//2 for n in range(x))\n",
    "for i in range(x):\n",
    "    print(next(littleGgen))"
   ]
  },
  {
   "cell_type": "code",
   "execution_count": null,
   "metadata": {
    "collapsed": false
   },
   "outputs": [],
   "source": [
    "r = 6\n",
    "gen = (x*(lambda x, y: x+y)(7, 3) for x in range(r))\n",
    "for i in range(r):\n",
    "    print(next(gen))\n"
   ]
  },
  {
   "cell_type": "code",
   "execution_count": null,
   "metadata": {
    "collapsed": false
   },
   "outputs": [],
   "source": [
    "def Mccluskey(on):\n",
    "    \"\"\" \n",
    "    on: liste mit Strings\n",
    "    \"\"\"\n",
    "    #du = {bin(x) for x in on}\n",
    "    [[]for i in range(len(on[0]))]\n",
    "    \n",
    "    \n",
    "def ON_Generator(ran):\n",
    "    genon = {bin(x) for x in range(ran)}\n",
    "        \n",
    "    "
   ]
  },
  {
   "cell_type": "code",
   "execution_count": null,
   "metadata": {
    "collapsed": true
   },
   "outputs": [],
   "source": []
  }
 ],
 "metadata": {
  "kernelspec": {
   "display_name": "Python 3",
   "language": "python",
   "name": "python3"
  },
  "language_info": {
   "codemirror_mode": {
    "name": "ipython",
    "version": 3
   },
   "file_extension": ".py",
   "mimetype": "text/x-python",
   "name": "python",
   "nbconvert_exporter": "python",
   "pygments_lexer": "ipython3",
   "version": "3.5.0"
  }
 },
 "nbformat": 4,
 "nbformat_minor": 0
}
