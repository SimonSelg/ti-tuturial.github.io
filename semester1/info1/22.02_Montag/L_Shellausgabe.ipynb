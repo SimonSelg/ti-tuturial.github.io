{
 "metadata": {
  "name": "L_Shellausgabe"
 },
 "nbformat": 3,
 "nbformat_minor": 0,
 "worksheets": [
  {
   "cells": [
    {
     "cell_type": "code",
     "collapsed": false,
     "input": "'I\\'%s %r robo' % ('spam'[-1:], min(['A', 'a']))",
     "language": "python",
     "metadata": {},
     "outputs": [
      {
       "metadata": {},
       "output_type": "pyout",
       "prompt_number": 2,
       "text": "\"I'm 'A' robo\""
      }
     ],
     "prompt_number": 2
    },
    {
     "cell_type": "code",
     "collapsed": false,
     "input": "a=({i, j} for i in range(1, 4) for j in range(1, 7, 2)\n   if i**2 < j*i)\nfor b in range(0, 5, 2):\n    print(next(a))",
     "language": "python",
     "metadata": {},
     "outputs": [
      {
       "output_type": "stream",
       "stream": "stdout",
       "text": "{1, 3}\n{1, 5}\n{2, 3}\n"
      }
     ],
     "prompt_number": 3
    },
    {
     "cell_type": "code",
     "collapsed": false,
     "input": "import re\nre.findall(r'([A-Z]+)\\w', \"HAm, spAM, Ha, And, eggs\")",
     "language": "python",
     "metadata": {},
     "outputs": [
      {
       "metadata": {},
       "output_type": "pyout",
       "prompt_number": 4,
       "text": "['HA', 'A', 'H', 'A']"
      }
     ],
     "prompt_number": 4
    },
    {
     "cell_type": "code",
     "collapsed": false,
     "input": "import re\nre.findall(r'(\\w)?\\W', \"HAm, spAM, Ha, And, eggs\")",
     "language": "python",
     "metadata": {},
     "outputs": [
      {
       "metadata": {},
       "output_type": "pyout",
       "prompt_number": 5,
       "text": "['m', '', 'M', '', 'a', '', 'd', '']"
      }
     ],
     "prompt_number": 5
    },
    {
     "cell_type": "code",
     "collapsed": false,
     "input": "a = [3, 2, 1]\nb = (\"a\", \"C\", \"b\", \"k\")\nsorted(zip(a, b), key=lambda x: x[1], reverse=True)",
     "language": "python",
     "metadata": {},
     "outputs": [
      {
       "metadata": {},
       "output_type": "pyout",
       "prompt_number": 6,
       "text": "[(1, 'b'), (3, 'a'), (2, 'C')]"
      }
     ],
     "prompt_number": 6
    },
    {
     "cell_type": "code",
     "collapsed": false,
     "input": "[i for i in list(map(lambda x, y: min(x, y), [4, 2], [5, 2]))]",
     "language": "python",
     "metadata": {},
     "outputs": [
      {
       "metadata": {},
       "output_type": "pyout",
       "prompt_number": 7,
       "text": "[4, 2]"
      }
     ],
     "prompt_number": 7
    }
   ],
   "metadata": {}
  }
 ]
}