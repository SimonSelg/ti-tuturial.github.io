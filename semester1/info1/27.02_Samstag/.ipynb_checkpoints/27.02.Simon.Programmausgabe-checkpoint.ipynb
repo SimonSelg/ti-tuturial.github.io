{
 "cells": [
  {
   "cell_type": "code",
   "execution_count": 1,
   "metadata": {
    "collapsed": true
   },
   "outputs": [
    {
     "name": "stdout",
     "output_type": "stream",
     "text": [
      "10\n"
     ]
    }
   ],
   "source": [
    "class BankAccount(object):\n",
    "    def __init__(self, initial_balance=0):\n",
    "        self.balance = initial_balance\n",
    "    def deposit(self, amount):\n",
    "        self.balance += amount\n",
    "    def withdraw(self, amount):\n",
    "        self.balance -= amount\n",
    "    def overdrawn(self):\n",
    "        return self.balance < 0\n",
    "my_account = BankAccount(15)\n",
    "my_account.withdraw(5)\n",
    "print(my_account.balance)"
   ]
  },
  {
   "cell_type": "code",
   "execution_count": 2,
   "metadata": {
    "collapsed": false
   },
   "outputs": [
    {
     "name": "stdout",
     "output_type": "stream",
     "text": [
      "100\n",
      "300\n",
      "175\n",
      "Einfache Bankkonto-Klasse\n"
     ]
    }
   ],
   "source": [
    "class Bankkonto:\n",
    "   \"\"\"Einfache Bankkonto-Klasse\"\"\"\n",
    "\n",
    "   def __init__(self,startbetrag):\n",
    "      \"\"\"Konstruktor: erzeugt Bankkonto\"\"\"\n",
    "      self.kontostand = startbetrag\n",
    "\n",
    "   def einzahlung(self, betrag):\n",
    "      self.kontostand = self.kontostand + betrag\n",
    "\n",
    "   def auszahlung(self, betrag):\n",
    "      self.kontostand = self.kontostand - betrag\n",
    "\n",
    "   def anzeigen(self):\n",
    "      print(self.kontostand)\n",
    "\n",
    "# ausprobieren\n",
    "konto1 = Bankkonto(100)\n",
    "konto1.anzeigen()\n",
    "konto1.einzahlung(200)\n",
    "konto1.anzeigen()\n",
    "konto1.auszahlung(125)\n",
    "konto1.anzeigen()\n",
    "print(konto1.__doc__)"
   ]
  }
 ],
 "metadata": {
  "kernelspec": {
   "display_name": "Python 3",
   "language": "python",
   "name": "python3"
  },
  "language_info": {
   "codemirror_mode": {
    "name": "ipython",
    "version": 3
   },
   "file_extension": ".py",
   "mimetype": "text/x-python",
   "name": "python",
   "nbconvert_exporter": "python",
   "pygments_lexer": "ipython3",
   "version": "3.5.1"
  }
 },
 "nbformat": 4,
 "nbformat_minor": 0
}
