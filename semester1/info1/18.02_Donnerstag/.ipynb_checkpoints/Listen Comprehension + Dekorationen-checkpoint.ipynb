{
 "cells": [
  {
   "cell_type": "markdown",
   "metadata": {},
   "source": [
    "# Warmupcomprehensions"
   ]
  },
  {
   "cell_type": "raw",
   "metadata": {},
   "source": [
    "Welche Ausgaben würden erzeugt werden, wenn diese Comprehensions mit print ausgegeben werden würden?"
   ]
  },
  {
   "cell_type": "code",
   "execution_count": 148,
   "metadata": {
    "collapsed": true
   },
   "outputs": [
    {
     "data": {
      "text/plain": [
       "set(['0x3', '0x2', '0x1', '0x0'])"
      ]
     },
     "execution_count": 148,
     "metadata": {},
     "output_type": "execute_result"
    }
   ],
   "source": [
    "{hex(x & y) for x in range(2) for y in range(2)}"
   ]
  },
  {
   "cell_type": "code",
   "execution_count": 149,
   "metadata": {
    "collapsed": true
   },
   "outputs": [
    {
     "data": {
      "text/plain": [
       "[0.0, 4.0, 16.0, 2.0, 6.0, 18.0, 8.0, 12.0, 24.0]"
      ]
     },
     "execution_count": 149,
     "metadata": {},
     "output_type": "execute_result"
    }
   ],
   "source": [
    "[x+y for x in [2*y for y in [x**2 for x in range(0, 3)]] for y in [4*y**(1/2) for y in [x**4 for x in range(0, 3)]]]"
   ]
  },
  {
   "cell_type": "code",
   "execution_count": 155,
   "metadata": {
    "collapsed": true
   },
   "outputs": [
    {
     "data": {
      "text/plain": [
       "{-1: '-0x1', 0: '0x0', 1: '0x1'}"
      ]
     },
     "execution_count": 155,
     "metadata": {},
     "output_type": "execute_result"
    }
   ],
   "source": [
    "dict([(x+y, hex(x+y)) for x in range(1,3) for y in range(-2,0)])"
   ]
  },
  {
   "cell_type": "markdown",
   "metadata": {},
   "source": [
    "# Generatoren"
   ]
  },
  {
   "cell_type": "raw",
   "metadata": {},
   "source": [
    "Beschreiben Sie kurz, welche Aufgabe die Generatoren erfüllen und kommentieren Sie hierbei wichtige Schritte aus. Welche Vorteile sind auf Grund der Implementierung der Funktionen über einen Generator gegenüber einer produralen Vorgehensweise zu beobachten?"
   ]
  },
  {
   "cell_type": "markdown",
   "metadata": {},
   "source": [
    "### a)"
   ]
  },
  {
   "cell_type": "code",
   "execution_count": 161,
   "metadata": {
    "collapsed": false
   },
   "outputs": [],
   "source": [
    "def generator():\n",
    "    a, b = 0, 1\n",
    "    yield a\n",
    "    a = b\n",
    "    while True:\n",
    "        yield a\n",
    "        a, b = b, a+b"
   ]
  },
  {
   "cell_type": "markdown",
   "metadata": {},
   "source": [
    "### b)"
   ]
  },
  {
   "cell_type": "code",
   "execution_count": 1,
   "metadata": {
    "collapsed": false
   },
   "outputs": [],
   "source": [
    "def generator():\n",
    "    yield 1\n",
    "    a, b = 1,2\n",
    "    while True:\n",
    "        yield a\n",
    "        a, b = a*b, b+1"
   ]
  },
  {
   "cell_type": "markdown",
   "metadata": {},
   "source": [
    "# Dekoratoren und Comprehension"
   ]
  },
  {
   "cell_type": "raw",
   "metadata": {},
   "source": [
    "Geben Sie zu folgendem Code an, was ausgegeben wird. Wie könnten Sie sich ein solches Verhalten erkären und wie kann dieses Verhalten richtiggestellt werden?"
   ]
  },
  {
   "cell_type": "code",
   "execution_count": 85,
   "metadata": {
    "collapsed": true
   },
   "outputs": [
    {
     "name": "stdout",
     "output_type": "stream",
     "text": [
      "This function is decorated by an pink ribbon ...I'm going to make sad gays happy\n",
      "This function is decorated by an pink ribbon ...I'm going to make sad gays happy\n",
      "THIS IS A BLUE RIBBON... ISN'T IT NICE !?\n",
      "THIS IS A BLUE RIBBON... ISN'T IT NICE !?\n",
      "THIS IS A BLUE RIBBON... ISN'T IT NICE !?\n"
     ]
    },
    {
     "data": {
      "text/plain": [
       "set([1, 2, 3, 4, 5, 6, 7, 8, 9, 10, 11, 12, 13, 14, 15, 16, 17, 18, 19, 20])"
      ]
     },
     "execution_count": 85,
     "metadata": {},
     "output_type": "execute_result"
    }
   ],
   "source": [
    "def pink_ribbon(func):\n",
    "    def function(*args, **kwargs):\n",
    "        print('This function is decorated by an pink ribbon ...'\n",
    "              'I\\'m going to make sad gays happy')\n",
    "        res = func(*args, **kwargs)\n",
    "        return res\n",
    "    return function\n",
    "\n",
    "\n",
    "@pink_ribbon\n",
    "def blue_ribbon(lum):\n",
    "    def what(f):\n",
    "        def func(*args, **kwargs):\n",
    "            print(\"THIS IS A BLUE RIBBON... ISN'T IT NICE !?\")\n",
    "            isi = all(lum(x) for x in args)\n",
    "            if isi:\n",
    "                ret = f(*args)\n",
    "                return ret\n",
    "            else:\n",
    "                return None\n",
    "        return func\n",
    "    return what\n",
    "\n",
    "\n",
    "@blue_ribbon(lambda x: isinstance(x, int))\n",
    "def multiplies(x):\n",
    "    return [x**x for x in range(x+1)]\n",
    "\n",
    "@blue_ribbon(lambda x: isinstance(x, int))\n",
    "def addingset(x, y):\n",
    "    return {x+y for x in range(y+1) for y in range(x+1) if x % 4 or y % 8}\n",
    "    \n",
    "    \n",
    "multiplies(3.2)\n",
    "multiplies(3)\n",
    "addingset(3, 10)"
   ]
  }
 ],
 "metadata": {
  "kernelspec": {
   "display_name": "Python 3",
   "language": "python",
   "name": "python3"
  },
  "language_info": {
   "codemirror_mode": {
    "name": "ipython",
    "version": 3
   },
   "file_extension": ".py",
   "mimetype": "text/x-python",
   "name": "python",
   "nbconvert_exporter": "python",
   "pygments_lexer": "ipython3",
   "version": "3.5.0"
  }
 },
 "nbformat": 4,
 "nbformat_minor": 0
}
