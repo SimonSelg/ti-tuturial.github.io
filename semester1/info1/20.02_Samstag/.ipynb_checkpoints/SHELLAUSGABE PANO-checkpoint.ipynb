{
 "cells": [
  {
   "cell_type": "markdown",
   "metadata": {},
   "source": [
    "# Shellausgabe"
   ]
  },
  {
   "cell_type": "markdown",
   "metadata": {},
   "source": [
    "Geben Sie an, was bei Folgenden Zeilen ausgegeben wird!"
   ]
  },
  {
   "cell_type": "code",
   "execution_count": 1,
   "metadata": {
    "collapsed": true
   },
   "outputs": [
    {
     "data": {
      "text/plain": [
       "[0,\n",
       " 1,\n",
       " 4,\n",
       " 9,\n",
       " 16,\n",
       " 25,\n",
       " 36,\n",
       " 49,\n",
       " 64,\n",
       " 81,\n",
       " 100,\n",
       " 121,\n",
       " 144,\n",
       " 169,\n",
       " 196,\n",
       " 225,\n",
       " 256,\n",
       " 289,\n",
       " 324,\n",
       " 361,\n",
       " 400]"
      ]
     },
     "execution_count": 1,
     "metadata": {},
     "output_type": "execute_result"
    }
   ],
   "source": [
    "list(map(lambda x: x**2, range(21)))"
   ]
  },
  {
   "cell_type": "code",
   "execution_count": 10,
   "metadata": {
    "collapsed": true
   },
   "outputs": [
    {
     "data": {
      "text/plain": [
       "[1, 2, 5, 3, 6]"
      ]
     },
     "execution_count": 10,
     "metadata": {},
     "output_type": "execute_result"
    }
   ],
   "source": [
    "a = [1, 4., 2, 5, 3, 6, 3.3]\n",
    "list(filter(lambda x: isinstance(x, int),a))"
   ]
  },
  {
   "cell_type": "code",
   "execution_count": 33,
   "metadata": {
    "collapsed": true
   },
   "outputs": [
    {
     "data": {
      "text/plain": [
       "[2, 3, 5, 7, 11, 13, 17, 19, 23, 29, 31, 37]"
      ]
     },
     "execution_count": 33,
     "metadata": {},
     "output_type": "execute_result"
    }
   ],
   "source": [
    "a = range(2,40)\n",
    "e1 = {x*2 for x in range(2, 51)}\n",
    "e2 = {x*3 for x in range(2, 34)}\n",
    "e3 = {x*5 for x in range(2, 21)}\n",
    "e4 = {x*7 for x in range(2, 15)}\n",
    "e5 = {x*9 for x in range(2, 12)}\n",
    "list(filter(lambda x: x not in e1 and x not in e2 and x not in e3 and x not in e4 and x not in e5, a))"
   ]
  },
  {
   "cell_type": "markdown",
   "metadata": {},
   "source": [
    "# Generatoren"
   ]
  },
  {
   "cell_type": "markdown",
   "metadata": {},
   "source": [
    "Welche Ausgabe erzeugt der Code?"
   ]
  },
  {
   "cell_type": "code",
   "execution_count": 20,
   "metadata": {
    "collapsed": true
   },
   "outputs": [
    {
     "data": {
      "text/plain": [
       "[3, 2, 9, 3, 15, 5, 21, 7, 27, 9]"
      ]
     },
     "execution_count": 20,
     "metadata": {},
     "output_type": "execute_result"
    }
   ],
   "source": [
    "def gen1():\n",
    "    x = 0\n",
    "    while True:\n",
    "        x += 2\n",
    "        if x % 4 == 0:\n",
    "            x -= 1\n",
    "        yield x\n",
    "        \n",
    "\n",
    "def gen2():\n",
    "    y = 0\n",
    "    ge = gen1()\n",
    "    while True:\n",
    "        y += 3\n",
    "        if y % 6 == 0:\n",
    "            yield next(ge)\n",
    "        else:\n",
    "            yield y\n",
    "\n",
    "            \n",
    "gen = gen2()\n",
    "li = []\n",
    "for i in range(10):\n",
    "    li.append(next(gen))\n",
    "li"
   ]
  },
  {
   "cell_type": "markdown",
   "metadata": {},
   "source": [
    "# Programm"
   ]
  },
  {
   "cell_type": "code",
   "execution_count": 32,
   "metadata": {
    "collapsed": true
   },
   "outputs": [
    {
     "name": "stdout",
     "output_type": "stream",
     "text": [
      "True\n",
      "0\n",
      "False\n",
      "1\n"
     ]
    }
   ],
   "source": [
    "def abs_sub(x, y):\n",
    "    b = x >= y\n",
    "    print(b)\n",
    "    if b:\n",
    "        return x-y\n",
    "    if not b:\n",
    "        return y-x\n",
    "\n",
    "print(abs_sub(3,3))\n",
    "print(abs_sub(2,3))"
   ]
  },
  {
   "cell_type": "code",
   "execution_count": null,
   "metadata": {
    "collapsed": true
   },
   "outputs": [],
   "source": []
  }
 ],
 "metadata": {
  "kernelspec": {
   "display_name": "Python 3",
   "language": "python",
   "name": "python3"
  },
  "language_info": {
   "codemirror_mode": {
    "name": "ipython",
    "version": 3
   },
   "file_extension": ".py",
   "mimetype": "text/x-python",
   "name": "python",
   "nbconvert_exporter": "python",
   "pygments_lexer": "ipython3",
   "version": "3.5.0"
  }
 },
 "nbformat": 4,
 "nbformat_minor": 0
}
